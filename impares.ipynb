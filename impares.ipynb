{
 "cells": [
  {
   "cell_type": "markdown",
   "id": "945397ec",
   "metadata": {},
   "source": [
    "Archivo temporal, luego se unen"
   ]
  },
  {
   "cell_type": "markdown",
   "id": "0beed889",
   "metadata": {},
   "source": [
    "- 3.1: Propiedades de chi-cuadrado con n-grados de libertad\n",
    "\n",
    "- 3.13: Script de simulación de intervalos\n",
    "\n",
    "- 6.4: Script regresión lineal y bandas\n",
    "\n",
    "- 6.6: Script de regresión y CV en sklearn\n",
    "\n",
    "- 6.9: Trabajando con datos reales de AURORA\n",
    "\n",
    "- 6.13: Curse of dimensionality"
   ]
  },
  {
   "cell_type": "code",
   "execution_count": null,
   "id": "5656a846",
   "metadata": {
    "vscode": {
     "languageId": "plaintext"
    }
   },
   "outputs": [],
   "source": []
  }
 ],
 "metadata": {
  "language_info": {
   "name": "python"
  }
 },
 "nbformat": 4,
 "nbformat_minor": 5
}
