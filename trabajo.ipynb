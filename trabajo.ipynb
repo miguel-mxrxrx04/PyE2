{
 "cells": [
  {
   "cell_type": "markdown",
   "id": "0264b9f7",
   "metadata": {},
   "source": [
    "### Práctica\n",
    "Para comprobar que se han adquirido los conocimientos prácticos necesarios, la asignatura\n",
    "requiere la entrega de los siguientes ejercicios:\n",
    "- 2.14: Script de estimación por máxima verosimilitud\n",
    "- 3.1: Propiedades de chi-cuadrado con n-grados de libertad\n",
    "- 3.2: Propiedades de t-student \n",
    "- 3.13: Script de simulación de intervalos\n",
    "- 5.8: Script completo sobre contrastes (que requiere el 4.9: Script para contrastes)\n",
    "- 6.4: Script regresión lineal y bandas\n",
    "- 6.5: Script sobre validación cruzada\n",
    "- 6.6: Script de regresión y CV en sklearn\n",
    "- 6.8: Regresión polinómica\n",
    "- 6.9: Trabajando con datos reales de AURORA\n",
    "- 6.12: Script que te gana a sí o no\n",
    "- 6.13: Curse of dimensionality\n",
    "#### Instrucciones:\n",
    "- Se deben entregar preferiblemente como .ipynb aunque también es válido como .py.\n",
    "- No se requiere que los scripts hagan comprobaciones del tipo “la variable introducida\n",
    "no tiene el formato correcto”, es decir, no se espera un programa para ser distribuido\n",
    "comercialmente sino un script que funcione para alguien que sabe lo que hace.\n",
    "- La nota de la práctica es apto o no apto, y no se valora cómo de optimizado está el\n",
    "código, en cuanto a tiempo de ejecución. Independientemente de esto, podéis entregar\n",
    "más ejercicios de los requeridos si los habéis trabajado, o tratar de optimizar, extender o\n",
    "pulir al máximo los que se piden. Si bien no cuenta directamente para la nota, sería algo\n",
    "que valoraría muy positivamente para potenciales redondeos de nota final (al alza).\n",
    "- Se pueden entregar individualmente o por grupos de hasta 4 personas. Ni entregarlos\n",
    "conjuntamente ni por separado penaliza, pero sed honestos. Si varios vais a trabajar\n",
    "juntos y por tanto vais a tener el mismo código, sencillamente entregadlo juntos.\n",
    "- La entrega se realizará como tarde a las 23:59 del 2 de junio de 2025, día del examen\n",
    "final, por correo electrónico a carlos.quesada@upm.es.\n",
    "- La entrega se defenderá en un día por fijar.\n",
    "- Se permite el uso de herramientas de programación asistida por IA como Copilot o chat\u0002GPT, pero todo el código deberá ser defendido mediante la exposición oral para demostrar"
   ]
  },
  {
   "cell_type": "markdown",
   "id": "8a147a50",
   "metadata": {},
   "source": [
    "2.14 Script de estimación por máxima verosimilitud"
   ]
  },
  {
   "cell_type": "code",
   "execution_count": 1,
   "id": "4db79621",
   "metadata": {},
   "outputs": [
    {
     "ename": "ModuleNotFoundError",
     "evalue": "No module named 'numpy'",
     "output_type": "error",
     "traceback": [
      "\u001b[31m---------------------------------------------------------------------------\u001b[39m",
      "\u001b[31mModuleNotFoundError\u001b[39m                       Traceback (most recent call last)",
      "\u001b[36mCell\u001b[39m\u001b[36m \u001b[39m\u001b[32mIn[1]\u001b[39m\u001b[32m, line 1\u001b[39m\n\u001b[32m----> \u001b[39m\u001b[32m1\u001b[39m \u001b[38;5;28;01mimport\u001b[39;00m\u001b[38;5;250m \u001b[39m\u001b[34;01mnumpy\u001b[39;00m\u001b[38;5;250m \u001b[39m\u001b[38;5;28;01mas\u001b[39;00m\u001b[38;5;250m \u001b[39m\u001b[34;01mnp\u001b[39;00m\n\u001b[32m      2\u001b[39m \u001b[38;5;28;01mimport\u001b[39;00m\u001b[38;5;250m \u001b[39m\u001b[34;01mmatplotlib\u001b[39;00m\u001b[34;01m.\u001b[39;00m\u001b[34;01mpyplot\u001b[39;00m\u001b[38;5;250m \u001b[39m\u001b[38;5;28;01mas\u001b[39;00m\u001b[38;5;250m \u001b[39m\u001b[34;01mplt\u001b[39;00m\n\u001b[32m      3\u001b[39m \u001b[38;5;28;01mfrom\u001b[39;00m\u001b[38;5;250m \u001b[39m\u001b[34;01mscipy\u001b[39;00m\u001b[38;5;250m \u001b[39m\u001b[38;5;28;01mimport\u001b[39;00m stats\n",
      "\u001b[31mModuleNotFoundError\u001b[39m: No module named 'numpy'"
     ]
    }
   ],
   "source": [
    "import numpy as np\n",
    "import matplotlib.pyplot as plt\n",
    "from scipy import stats\n",
    "from scipy.optimize import minimize\n",
    "\n",
    "np.random.seed(42)\n",
    "true_mu = 5.0\n",
    "true_sigma = 2.0\n",
    "sample_size = 200\n",
    "data = np.random.normal(true_mu, true_sigma, sample_size)\n",
    "\n",
    "def neg_log_likelihood(params, data):\n",
    "    mu, sigma = params\n",
    "    if sigma <= 0:\n",
    "        return 1e10  # Return a large number if sigma is non-positive\n",
    "    return -np.sum(stats.norm.logpdf(data, loc=mu, scale=sigma))\n",
    "\n",
    "initial_guess = [0, 1]\n",
    "result = neg_log_likelihood(initial_guess, data, method='Nelder-Mead')\n",
    "estimated_mu, estimated_sigma = result.x\n",
    "print(f\"Estimated mu: {estimated_mu}, Estimated sigma: {estimated_sigma}\")"
   ]
  },
  {
   "cell_type": "markdown",
   "id": "34b83b09",
   "metadata": {},
   "source": [
    "Propiedades de chi cuadrado con n grados de libertad"
   ]
  }
 ],
 "metadata": {
  "kernelspec": {
   "display_name": "statsenv",
   "language": "python",
   "name": "python3"
  },
  "language_info": {
   "codemirror_mode": {
    "name": "ipython",
    "version": 3
   },
   "file_extension": ".py",
   "mimetype": "text/x-python",
   "name": "python",
   "nbconvert_exporter": "python",
   "pygments_lexer": "ipython3",
   "version": "3.12.10"
  }
 },
 "nbformat": 4,
 "nbformat_minor": 5
}
