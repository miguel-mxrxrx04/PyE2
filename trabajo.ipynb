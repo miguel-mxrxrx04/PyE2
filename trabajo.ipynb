{
 "cells": [
  {
   "cell_type": "markdown",
   "id": "0264b9f7",
   "metadata": {},
   "source": [
    "### Práctica\n",
    "Para comprobar que se han adquirido los conocimientos prácticos necesarios, la asignatura\n",
    "requiere la entrega de los siguientes ejercicios:\n",
    "- 2.14: Script de estimación por máxima verosimilitud\n",
    "- 3.1: Propiedades de chi-cuadrado con n-grados de libertad\n",
    "- 3.2: Propiedades de t-student \n",
    "- 3.13: Script de simulación de intervalos\n",
    "- 5.8: Script completo sobre contrastes (que requiere el 4.9: Script para contrastes)\n",
    "- 6.4: Script regresión lineal y bandas\n",
    "- 6.5: Script sobre validación cruzada\n",
    "- 6.6: Script de regresión y CV en sklearn\n",
    "- 6.8: Regresión polinómica\n",
    "- 6.9: Trabajando con datos reales de AURORA\n",
    "- 6.12: Script que te gana a sí o no\n",
    "- 6.13: Curse of dimensionality\n",
    "#### Instrucciones:\n",
    "- Se deben entregar preferiblemente como .ipynb aunque también es válido como .py.\n",
    "- No se requiere que los scripts hagan comprobaciones del tipo “la variable introducida\n",
    "no tiene el formato correcto”, es decir, no se espera un programa para ser distribuido\n",
    "comercialmente sino un script que funcione para alguien que sabe lo que hace.\n",
    "- La nota de la práctica es apto o no apto, y no se valora cómo de optimizado está el\n",
    "código, en cuanto a tiempo de ejecución. Independientemente de esto, podéis entregar\n",
    "más ejercicios de los requeridos si los habéis trabajado, o tratar de optimizar, extender o\n",
    "pulir al máximo los que se piden. Si bien no cuenta directamente para la nota, sería algo\n",
    "que valoraría muy positivamente para potenciales redondeos de nota final (al alza).\n",
    "- Se pueden entregar individualmente o por grupos de hasta 4 personas. Ni entregarlos\n",
    "conjuntamente ni por separado penaliza, pero sed honestos. Si varios vais a trabajar\n",
    "juntos y por tanto vais a tener el mismo código, sencillamente entregadlo juntos.\n",
    "- La entrega se realizará como tarde a las 23:59 del 2 de junio de 2025, día del examen\n",
    "final, por correo electrónico a carlos.quesada@upm.es.\n",
    "- La entrega se defenderá en un día por fijar.\n",
    "- Se permite el uso de herramientas de programación asistida por IA como Copilot o chat\u0002GPT, pero todo el código deberá ser defendido mediante la exposición oral para demostrar"
   ]
  },
  {
   "cell_type": "markdown",
   "id": "8a147a50",
   "metadata": {},
   "source": [
    "2.14 Script de estimación por máxima verosimilitud"
   ]
  },
  {
   "cell_type": "markdown",
   "id": "34b83b09",
   "metadata": {},
   "source": []
  }
 ],
 "metadata": {
  "language_info": {
   "name": "python"
  }
 },
 "nbformat": 4,
 "nbformat_minor": 5
}
